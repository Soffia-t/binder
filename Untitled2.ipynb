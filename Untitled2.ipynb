{
  "cells": [
    {
      "cell_type": "markdown",
      "metadata": {
        "id": "view-in-github",
        "colab_type": "text"
      },
      "source": [
        "<a href=\"https://colab.research.google.com/github/Soffia-t/binder/blob/main/Untitled2.ipynb\" target=\"_parent\"><img src=\"https://colab.research.google.com/assets/colab-badge.svg\" alt=\"Open In Colab\"/></a>"
      ]
    },
    {
      "cell_type": "code",
      "execution_count": null,
      "id": "fc25fb8a-8243-443c-a07f-c58dc54532d0",
      "metadata": {
        "tags": [],
        "id": "fc25fb8a-8243-443c-a07f-c58dc54532d0"
      },
      "outputs": [],
      "source": [
        "%%capture\n",
        "!pip install neuralprophet\n",
        "import pandas as pd\n",
        "from neuralprophet import NeuralProphet, set_log_level\n",
        "\n",
        "set_log_level(\"ERROR\")"
      ]
    },
    {
      "cell_type": "code",
      "execution_count": null,
      "id": "b1a7880b-ad54-4006-b7a9-bfc0d0591005",
      "metadata": {
        "tags": [],
        "id": "b1a7880b-ad54-4006-b7a9-bfc0d0591005"
      },
      "outputs": [],
      "source": [
        "import datetime "
      ]
    },
    {
      "cell_type": "code",
      "execution_count": null,
      "id": "cef4b427-b80e-43a4-bc04-6b9159895c6d",
      "metadata": {
        "tags": [],
        "id": "cef4b427-b80e-43a4-bc04-6b9159895c6d"
      },
      "outputs": [],
      "source": [
        "import pandas as pd "
      ]
    },
    {
      "cell_type": "code",
      "execution_count": null,
      "id": "e19a42ce-f9d7-4812-99ab-72662718f3f5",
      "metadata": {
        "tags": [],
        "id": "e19a42ce-f9d7-4812-99ab-72662718f3f5",
        "outputId": "96d6cdcb-33d6-4522-ce60-d175c68799aa"
      },
      "outputs": [
        {
          "data": {
            "text/html": [
              "<div>\n",
              "<style scoped>\n",
              "    .dataframe tbody tr th:only-of-type {\n",
              "        vertical-align: middle;\n",
              "    }\n",
              "\n",
              "    .dataframe tbody tr th {\n",
              "        vertical-align: top;\n",
              "    }\n",
              "\n",
              "    .dataframe thead th {\n",
              "        text-align: right;\n",
              "    }\n",
              "</style>\n",
              "<table border=\"1\" class=\"dataframe\">\n",
              "  <thead>\n",
              "    <tr style=\"text-align: right;\">\n",
              "      <th></th>\n",
              "      <th>ds</th>\n",
              "      <th>NO2</th>\n",
              "      <th>GDP</th>\n",
              "      <th>ISO2</th>\n",
              "    </tr>\n",
              "  </thead>\n",
              "  <tbody>\n",
              "    <tr>\n",
              "      <th>0</th>\n",
              "      <td>2018-07-01</td>\n",
              "      <td>0.052908</td>\n",
              "      <td>377934.776072</td>\n",
              "      <td>AL</td>\n",
              "    </tr>\n",
              "    <tr>\n",
              "      <th>1</th>\n",
              "      <td>2018-10-01</td>\n",
              "      <td>0.062787</td>\n",
              "      <td>386906.843678</td>\n",
              "      <td>AL</td>\n",
              "    </tr>\n",
              "    <tr>\n",
              "      <th>2</th>\n",
              "      <td>2019-01-01</td>\n",
              "      <td>0.062399</td>\n",
              "      <td>350923.040540</td>\n",
              "      <td>AL</td>\n",
              "    </tr>\n",
              "    <tr>\n",
              "      <th>3</th>\n",
              "      <td>2019-04-01</td>\n",
              "      <td>0.083043</td>\n",
              "      <td>410363.143270</td>\n",
              "      <td>AL</td>\n",
              "    </tr>\n",
              "    <tr>\n",
              "      <th>4</th>\n",
              "      <td>2019-07-01</td>\n",
              "      <td>0.079915</td>\n",
              "      <td>394495.962851</td>\n",
              "      <td>AL</td>\n",
              "    </tr>\n",
              "    <tr>\n",
              "      <th>...</th>\n",
              "      <td>...</td>\n",
              "      <td>...</td>\n",
              "      <td>...</td>\n",
              "      <td>...</td>\n",
              "    </tr>\n",
              "    <tr>\n",
              "      <th>1364</th>\n",
              "      <td>2021-04-01</td>\n",
              "      <td>0.289049</td>\n",
              "      <td>424995.612329</td>\n",
              "      <td>UY</td>\n",
              "    </tr>\n",
              "    <tr>\n",
              "      <th>1365</th>\n",
              "      <td>2021-07-01</td>\n",
              "      <td>0.292279</td>\n",
              "      <td>428803.145846</td>\n",
              "      <td>UY</td>\n",
              "    </tr>\n",
              "    <tr>\n",
              "      <th>1366</th>\n",
              "      <td>2021-10-01</td>\n",
              "      <td>0.350322</td>\n",
              "      <td>469225.822382</td>\n",
              "      <td>UY</td>\n",
              "    </tr>\n",
              "    <tr>\n",
              "      <th>1367</th>\n",
              "      <td>2022-01-01</td>\n",
              "      <td>0.326762</td>\n",
              "      <td>444022.350937</td>\n",
              "      <td>UY</td>\n",
              "    </tr>\n",
              "    <tr>\n",
              "      <th>1368</th>\n",
              "      <td>2022-04-01</td>\n",
              "      <td>0.256539</td>\n",
              "      <td>457748.524512</td>\n",
              "      <td>UY</td>\n",
              "    </tr>\n",
              "  </tbody>\n",
              "</table>\n",
              "<p>1247 rows × 4 columns</p>\n",
              "</div>"
            ],
            "text/plain": [
              "             ds       NO2            GDP ISO2\n",
              "0    2018-07-01  0.052908  377934.776072   AL\n",
              "1    2018-10-01  0.062787  386906.843678   AL\n",
              "2    2019-01-01  0.062399  350923.040540   AL\n",
              "3    2019-04-01  0.083043  410363.143270   AL\n",
              "4    2019-07-01  0.079915  394495.962851   AL\n",
              "...         ...       ...            ...  ...\n",
              "1364 2021-04-01  0.289049  424995.612329   UY\n",
              "1365 2021-07-01  0.292279  428803.145846   UY\n",
              "1366 2021-10-01  0.350322  469225.822382   UY\n",
              "1367 2022-01-01  0.326762  444022.350937   UY\n",
              "1368 2022-04-01  0.256539  457748.524512   UY\n",
              "\n",
              "[1247 rows x 4 columns]"
            ]
          },
          "execution_count": 8,
          "metadata": {},
          "output_type": "execute_result"
        }
      ],
      "source": [
        "df_global=pd.read_csv('/home/jovyan/Untitled Folder/combined_dataset_hex (2).csv')\n",
        "df_global['ds'] = pd.to_datetime(df_global['ds'])  \n",
        "#greater than the start date and smaller than the end date\n",
        "mask = (df_global['ds'] > '2018-04') & (df_global['ds'] <= '2022-04')\n",
        "df_global= df_global.loc[mask]\n",
        "df_global"
      ]
    },
    {
      "cell_type": "code",
      "execution_count": null,
      "id": "1a634ad0-4066-4ffb-8e69-acbbdec71777",
      "metadata": {
        "tags": [],
        "id": "1a634ad0-4066-4ffb-8e69-acbbdec71777"
      },
      "outputs": [],
      "source": [
        "df_global = df_global.rename(columns={\"GDP\": \"y\", \"ISO2\": \"ID\"})\n",
        "df_global=df_global.sort_values(by='ds', inplace = False)\n",
        "df_global=df_global.reset_index(drop=True)"
      ]
    },
    {
      "cell_type": "code",
      "execution_count": null,
      "id": "abcfc73d-d235-4199-afde-fa859dd1b25c",
      "metadata": {
        "tags": [],
        "id": "abcfc73d-d235-4199-afde-fa859dd1b25c"
      },
      "outputs": [],
      "source": [
        "df_global_2=df_global[['ds','y','ID']]"
      ]
    },
    {
      "cell_type": "code",
      "execution_count": null,
      "id": "491c16bd-ceb9-4205-bd59-ff6b999c3afd",
      "metadata": {
        "tags": [],
        "id": "491c16bd-ceb9-4205-bd59-ff6b999c3afd"
      },
      "outputs": [],
      "source": [
        "#create test/train split\n",
        "test_size = 415 #best \n",
        "train_df = df_global_2[:-test_size].reset_index(drop=True)\n",
        "test_df = df_global_2[-test_size:].reset_index(drop=True)"
      ]
    },
    {
      "cell_type": "code",
      "execution_count": null,
      "id": "c89a6777-3c1f-4b3e-8fd1-994aa5557f82",
      "metadata": {
        "tags": [],
        "id": "c89a6777-3c1f-4b3e-8fd1-994aa5557f82",
        "outputId": "1ce87158-edc0-4d24-f2f0-af78f17ba712",
        "colab": {
          "referenced_widgets": [
            "e643ec93d83546e99fa339325bb9a244",
            "3de212f4c2e342298b911226377e3809"
          ]
        }
      },
      "outputs": [
        {
          "data": {
            "application/vnd.jupyter.widget-view+json": {
              "model_id": "e643ec93d83546e99fa339325bb9a244",
              "version_major": 2,
              "version_minor": 0
            },
            "text/plain": [
              "Finding best initial lr:   0%|          | 0/224 [00:00<?, ?it/s]"
            ]
          },
          "metadata": {},
          "output_type": "display_data"
        },
        {
          "data": {
            "application/vnd.jupyter.widget-view+json": {
              "model_id": "3de212f4c2e342298b911226377e3809",
              "version_major": 2,
              "version_minor": 0
            },
            "text/plain": [
              "Training: 0it [00:00, ?it/s]"
            ]
          },
          "metadata": {},
          "output_type": "display_data"
        }
      ],
      "source": [
        "m = NeuralProphet(\n",
        "    trend_global_local=\"local\",\n",
        "    season_global_local=\"local\",\n",
        "    changepoints_range=0.7,\n",
        "    epochs=3000, \n",
        "    trend_reg=6,\n",
        "    #n_forecasts = 3\n",
        ")\n",
        "#m.add_future_regressor(name='NO2')\n",
        "metrics= m.fit(train_df, freq=\"Q\")"
      ]
    },
    {
      "cell_type": "code",
      "execution_count": null,
      "id": "a7aaad41-2ee6-4629-8a24-0daad246becf",
      "metadata": {
        "tags": [],
        "id": "a7aaad41-2ee6-4629-8a24-0daad246becf",
        "outputId": "bc3c71e1-e0db-44c3-84c9-72b53aa24261",
        "colab": {
          "referenced_widgets": [
            "027514b7b2d2468585e54cc4f7d4008d",
            "0d2a734627fa48108950bed388cac941",
            "ba91c4ab44964360bb4d5cb6c8345d98",
            "aeb424607f024b8489e396da5cfcf888",
            "d95239ece05249f8a97a218c206ea8f1",
            "59744e30b52b4c7493b0b57d099e9aa9",
            "d8baf515f5ab46f3997a75d72639bb73",
            "30aef067f75b4ff1acf7151fb74e0f72",
            "75faff04d8f44748b4152dd8bf20b8aa",
            "67630ce46a0e405392d19991faf58138",
            "d69130baa8044df2b28aff29537569d9",
            "6d99efe020f84b0ca659ba8abb293bab",
            "f6f6b83faa134e39a7f899b3662fc324",
            "750efdb0ace54d2b83a179aa3535aabf",
            "3c4bd455db3e4b2fb9f0c8f624a6c1dc",
            "a9f1976a61314c4f95199630592c42a0",
            "edd62a7a59f646d6a8e37e74a8b1a8f2",
            "80daa90ba64941ba9a71f370b431abbd",
            "d9b437b63733495783c54bb520a9dccd",
            "919a239a904949f3b6512d29ba823d05",
            "e2c11d2dded749abb7bca94105cc7081",
            "a187c63cc72648f8bf5be4b8c3e41d9c",
            "1ccfae93882e4edaa86697826d108d12",
            "213586f71e804dd18151632032a515fa",
            "dec9e773aff94081b87e49f20c45292c",
            "6ebee409b539497fbe76c1daba2dd570",
            "0b519ef493d64b39bbeb90f4c0a27dc9",
            "badcca0d21074026b9b284cacd970585",
            "c73425243e064955903d365c1f008359",
            "3e0e8634e98e47da9302dfadd402f0f8",
            "d00a4ba17357498988c2bf0c9254e098",
            "aa2e6918db994c898916270229d3d43d",
            "10e70b5a2e9c45408118dfa61a95c117",
            "e781a3c2535c405788e09e7d2ddddc7c",
            "3d2c3090cf4b4e43880fd98029d0344f",
            "56ab350d375f4e58873e3b584ec9bc69",
            "4b214f2375644d308942c16e259a6649",
            "94db4968e49a402e8cfb826efc168d6b",
            "658df9ff038644c98b274168c359d1f8",
            "3baedfadd2a24093bfda1a146caacef5",
            "5acb3016beb640c5847e57ebac1b4d35",
            "c412e3ba37284016a561b9169b5ac911",
            "6fe6d6042b3542238d28cb5170b68234",
            "b7f53ef1dcdd45f3b13735e13ba3718b",
            "788b5c2ec49c461a912f30014364d36b",
            "649044537ede4f44b38781dfb37f4181",
            "ef77ed342e6143a7af7063ff36421120",
            "e9d7b6ce8b1449758db8bf7a8c29f1d1",
            "623423ac06414ed2a1e2013bcb1efbeb",
            "ed85c42bedda41918d0a74218ba6a5cb",
            "571640653d894cbfbd0d262ab3293af6",
            "2825074d667042d69c1e2322b3e53d70",
            "5bb03216bc20419489e058e658159ddb",
            "84b2c922bc4a4b609ba436814f464b04",
            "15bd0746fbf84a3f8c4ce5cea8b337d7",
            "c2acb019c29e4e5a81d039a16d0f7046",
            "748d86d160254c84aecdfde3c786c612",
            "9a9368f99bc64bf6ad47154894aa8160",
            "5a7fce58221841f4885cf751596d5c9e",
            "9fb51d98b14d457e9ffbe662a02c54fa",
            "4cdb8861f2f5463888fa3a81bbccbb33",
            "b0d9d0c71e284f9c8f52b5c7bccc4746",
            "36b81d9248c64cab9f2a70745c568974",
            "995cf152d3834c0bb890008aac5cf4e2",
            "39a00450fd2a46438bd4e7611bb26787",
            "d587645589d743da99e24e4f79df7684",
            "84291500a35a44d0876cfe83dd18d6e6",
            "9ae5edbfe36a46fb813d1c93d3f15ab6",
            "754ec21bfd5147ca9de7ebf35a243206",
            "22ad3ff01a484696a78e108a4031fc69",
            "0871421f43d44cc98a2b83a07d71383c",
            "525196b0fcbb4b8ebf58af2886e752c0",
            "25a5b169b31a4328adb2e3134fab5ea6",
            "47d6a63f8d21403ebf1c49ecf33286e3",
            "111e86aae40147928a42c4eadd9e8b41",
            "6ed520249d024969bd72a0e381ded4f9",
            "02bc7d5b764444cab0210b0eb0c2e0a7",
            "8d6d76968b5947deb6dc1aeb896d2234",
            "abd19a66c8654fc2b0a3de7732983bbc"
          ]
        }
      },
      "outputs": [
        {
          "data": {
            "application/vnd.jupyter.widget-view+json": {
              "model_id": "027514b7b2d2468585e54cc4f7d4008d",
              "version_major": 2,
              "version_minor": 0
            },
            "text/plain": [
              "Predicting: 52it [00:00, ?it/s]"
            ]
          },
          "metadata": {},
          "output_type": "display_data"
        },
        {
          "data": {
            "application/vnd.jupyter.widget-view+json": {
              "model_id": "0d2a734627fa48108950bed388cac941",
              "version_major": 2,
              "version_minor": 0
            },
            "text/plain": [
              "Predicting: 52it [00:00, ?it/s]"
            ]
          },
          "metadata": {},
          "output_type": "display_data"
        },
        {
          "data": {
            "application/vnd.jupyter.widget-view+json": {
              "model_id": "ba91c4ab44964360bb4d5cb6c8345d98",
              "version_major": 2,
              "version_minor": 0
            },
            "text/plain": [
              "Predicting: 52it [00:00, ?it/s]"
            ]
          },
          "metadata": {},
          "output_type": "display_data"
        },
        {
          "data": {
            "application/vnd.jupyter.widget-view+json": {
              "model_id": "aeb424607f024b8489e396da5cfcf888",
              "version_major": 2,
              "version_minor": 0
            },
            "text/plain": [
              "Predicting: 52it [00:00, ?it/s]"
            ]
          },
          "metadata": {},
          "output_type": "display_data"
        },
        {
          "data": {
            "application/vnd.jupyter.widget-view+json": {
              "model_id": "d95239ece05249f8a97a218c206ea8f1",
              "version_major": 2,
              "version_minor": 0
            },
            "text/plain": [
              "Predicting: 52it [00:00, ?it/s]"
            ]
          },
          "metadata": {},
          "output_type": "display_data"
        },
        {
          "data": {
            "application/vnd.jupyter.widget-view+json": {
              "model_id": "59744e30b52b4c7493b0b57d099e9aa9",
              "version_major": 2,
              "version_minor": 0
            },
            "text/plain": [
              "Predicting: 52it [00:00, ?it/s]"
            ]
          },
          "metadata": {},
          "output_type": "display_data"
        },
        {
          "data": {
            "application/vnd.jupyter.widget-view+json": {
              "model_id": "d8baf515f5ab46f3997a75d72639bb73",
              "version_major": 2,
              "version_minor": 0
            },
            "text/plain": [
              "Predicting: 52it [00:00, ?it/s]"
            ]
          },
          "metadata": {},
          "output_type": "display_data"
        },
        {
          "data": {
            "application/vnd.jupyter.widget-view+json": {
              "model_id": "30aef067f75b4ff1acf7151fb74e0f72",
              "version_major": 2,
              "version_minor": 0
            },
            "text/plain": [
              "Predicting: 52it [00:00, ?it/s]"
            ]
          },
          "metadata": {},
          "output_type": "display_data"
        },
        {
          "data": {
            "application/vnd.jupyter.widget-view+json": {
              "model_id": "75faff04d8f44748b4152dd8bf20b8aa",
              "version_major": 2,
              "version_minor": 0
            },
            "text/plain": [
              "Predicting: 52it [00:00, ?it/s]"
            ]
          },
          "metadata": {},
          "output_type": "display_data"
        },
        {
          "data": {
            "application/vnd.jupyter.widget-view+json": {
              "model_id": "67630ce46a0e405392d19991faf58138",
              "version_major": 2,
              "version_minor": 0
            },
            "text/plain": [
              "Predicting: 52it [00:00, ?it/s]"
            ]
          },
          "metadata": {},
          "output_type": "display_data"
        },
        {
          "data": {
            "application/vnd.jupyter.widget-view+json": {
              "model_id": "d69130baa8044df2b28aff29537569d9",
              "version_major": 2,
              "version_minor": 0
            },
            "text/plain": [
              "Predicting: 52it [00:00, ?it/s]"
            ]
          },
          "metadata": {},
          "output_type": "display_data"
        },
        {
          "data": {
            "application/vnd.jupyter.widget-view+json": {
              "model_id": "6d99efe020f84b0ca659ba8abb293bab",
              "version_major": 2,
              "version_minor": 0
            },
            "text/plain": [
              "Predicting: 52it [00:00, ?it/s]"
            ]
          },
          "metadata": {},
          "output_type": "display_data"
        },
        {
          "data": {
            "application/vnd.jupyter.widget-view+json": {
              "model_id": "f6f6b83faa134e39a7f899b3662fc324",
              "version_major": 2,
              "version_minor": 0
            },
            "text/plain": [
              "Predicting: 52it [00:00, ?it/s]"
            ]
          },
          "metadata": {},
          "output_type": "display_data"
        },
        {
          "data": {
            "application/vnd.jupyter.widget-view+json": {
              "model_id": "750efdb0ace54d2b83a179aa3535aabf",
              "version_major": 2,
              "version_minor": 0
            },
            "text/plain": [
              "Predicting: 52it [00:00, ?it/s]"
            ]
          },
          "metadata": {},
          "output_type": "display_data"
        },
        {
          "data": {
            "application/vnd.jupyter.widget-view+json": {
              "model_id": "3c4bd455db3e4b2fb9f0c8f624a6c1dc",
              "version_major": 2,
              "version_minor": 0
            },
            "text/plain": [
              "Predicting: 52it [00:00, ?it/s]"
            ]
          },
          "metadata": {},
          "output_type": "display_data"
        },
        {
          "data": {
            "application/vnd.jupyter.widget-view+json": {
              "model_id": "a9f1976a61314c4f95199630592c42a0",
              "version_major": 2,
              "version_minor": 0
            },
            "text/plain": [
              "Predicting: 52it [00:00, ?it/s]"
            ]
          },
          "metadata": {},
          "output_type": "display_data"
        },
        {
          "data": {
            "application/vnd.jupyter.widget-view+json": {
              "model_id": "edd62a7a59f646d6a8e37e74a8b1a8f2",
              "version_major": 2,
              "version_minor": 0
            },
            "text/plain": [
              "Predicting: 52it [00:00, ?it/s]"
            ]
          },
          "metadata": {},
          "output_type": "display_data"
        },
        {
          "data": {
            "application/vnd.jupyter.widget-view+json": {
              "model_id": "80daa90ba64941ba9a71f370b431abbd",
              "version_major": 2,
              "version_minor": 0
            },
            "text/plain": [
              "Predicting: 52it [00:00, ?it/s]"
            ]
          },
          "metadata": {},
          "output_type": "display_data"
        },
        {
          "data": {
            "application/vnd.jupyter.widget-view+json": {
              "model_id": "d9b437b63733495783c54bb520a9dccd",
              "version_major": 2,
              "version_minor": 0
            },
            "text/plain": [
              "Predicting: 52it [00:00, ?it/s]"
            ]
          },
          "metadata": {},
          "output_type": "display_data"
        },
        {
          "data": {
            "application/vnd.jupyter.widget-view+json": {
              "model_id": "919a239a904949f3b6512d29ba823d05",
              "version_major": 2,
              "version_minor": 0
            },
            "text/plain": [
              "Predicting: 52it [00:00, ?it/s]"
            ]
          },
          "metadata": {},
          "output_type": "display_data"
        },
        {
          "data": {
            "application/vnd.jupyter.widget-view+json": {
              "model_id": "e2c11d2dded749abb7bca94105cc7081",
              "version_major": 2,
              "version_minor": 0
            },
            "text/plain": [
              "Predicting: 52it [00:00, ?it/s]"
            ]
          },
          "metadata": {},
          "output_type": "display_data"
        },
        {
          "data": {
            "application/vnd.jupyter.widget-view+json": {
              "model_id": "a187c63cc72648f8bf5be4b8c3e41d9c",
              "version_major": 2,
              "version_minor": 0
            },
            "text/plain": [
              "Predicting: 52it [00:00, ?it/s]"
            ]
          },
          "metadata": {},
          "output_type": "display_data"
        },
        {
          "data": {
            "application/vnd.jupyter.widget-view+json": {
              "model_id": "1ccfae93882e4edaa86697826d108d12",
              "version_major": 2,
              "version_minor": 0
            },
            "text/plain": [
              "Predicting: 52it [00:00, ?it/s]"
            ]
          },
          "metadata": {},
          "output_type": "display_data"
        },
        {
          "data": {
            "application/vnd.jupyter.widget-view+json": {
              "model_id": "213586f71e804dd18151632032a515fa",
              "version_major": 2,
              "version_minor": 0
            },
            "text/plain": [
              "Predicting: 52it [00:00, ?it/s]"
            ]
          },
          "metadata": {},
          "output_type": "display_data"
        },
        {
          "data": {
            "application/vnd.jupyter.widget-view+json": {
              "model_id": "dec9e773aff94081b87e49f20c45292c",
              "version_major": 2,
              "version_minor": 0
            },
            "text/plain": [
              "Predicting: 52it [00:00, ?it/s]"
            ]
          },
          "metadata": {},
          "output_type": "display_data"
        },
        {
          "data": {
            "application/vnd.jupyter.widget-view+json": {
              "model_id": "6ebee409b539497fbe76c1daba2dd570",
              "version_major": 2,
              "version_minor": 0
            },
            "text/plain": [
              "Predicting: 52it [00:00, ?it/s]"
            ]
          },
          "metadata": {},
          "output_type": "display_data"
        },
        {
          "data": {
            "application/vnd.jupyter.widget-view+json": {
              "model_id": "0b519ef493d64b39bbeb90f4c0a27dc9",
              "version_major": 2,
              "version_minor": 0
            },
            "text/plain": [
              "Predicting: 52it [00:00, ?it/s]"
            ]
          },
          "metadata": {},
          "output_type": "display_data"
        },
        {
          "data": {
            "application/vnd.jupyter.widget-view+json": {
              "model_id": "badcca0d21074026b9b284cacd970585",
              "version_major": 2,
              "version_minor": 0
            },
            "text/plain": [
              "Predicting: 52it [00:00, ?it/s]"
            ]
          },
          "metadata": {},
          "output_type": "display_data"
        },
        {
          "data": {
            "application/vnd.jupyter.widget-view+json": {
              "model_id": "c73425243e064955903d365c1f008359",
              "version_major": 2,
              "version_minor": 0
            },
            "text/plain": [
              "Predicting: 52it [00:00, ?it/s]"
            ]
          },
          "metadata": {},
          "output_type": "display_data"
        },
        {
          "data": {
            "application/vnd.jupyter.widget-view+json": {
              "model_id": "3e0e8634e98e47da9302dfadd402f0f8",
              "version_major": 2,
              "version_minor": 0
            },
            "text/plain": [
              "Predicting: 52it [00:00, ?it/s]"
            ]
          },
          "metadata": {},
          "output_type": "display_data"
        },
        {
          "data": {
            "application/vnd.jupyter.widget-view+json": {
              "model_id": "d00a4ba17357498988c2bf0c9254e098",
              "version_major": 2,
              "version_minor": 0
            },
            "text/plain": [
              "Predicting: 52it [00:00, ?it/s]"
            ]
          },
          "metadata": {},
          "output_type": "display_data"
        },
        {
          "data": {
            "application/vnd.jupyter.widget-view+json": {
              "model_id": "aa2e6918db994c898916270229d3d43d",
              "version_major": 2,
              "version_minor": 0
            },
            "text/plain": [
              "Predicting: 52it [00:00, ?it/s]"
            ]
          },
          "metadata": {},
          "output_type": "display_data"
        },
        {
          "data": {
            "application/vnd.jupyter.widget-view+json": {
              "model_id": "10e70b5a2e9c45408118dfa61a95c117",
              "version_major": 2,
              "version_minor": 0
            },
            "text/plain": [
              "Predicting: 52it [00:00, ?it/s]"
            ]
          },
          "metadata": {},
          "output_type": "display_data"
        },
        {
          "data": {
            "application/vnd.jupyter.widget-view+json": {
              "model_id": "e781a3c2535c405788e09e7d2ddddc7c",
              "version_major": 2,
              "version_minor": 0
            },
            "text/plain": [
              "Predicting: 52it [00:00, ?it/s]"
            ]
          },
          "metadata": {},
          "output_type": "display_data"
        },
        {
          "data": {
            "application/vnd.jupyter.widget-view+json": {
              "model_id": "3d2c3090cf4b4e43880fd98029d0344f",
              "version_major": 2,
              "version_minor": 0
            },
            "text/plain": [
              "Predicting: 52it [00:00, ?it/s]"
            ]
          },
          "metadata": {},
          "output_type": "display_data"
        },
        {
          "data": {
            "application/vnd.jupyter.widget-view+json": {
              "model_id": "56ab350d375f4e58873e3b584ec9bc69",
              "version_major": 2,
              "version_minor": 0
            },
            "text/plain": [
              "Predicting: 52it [00:00, ?it/s]"
            ]
          },
          "metadata": {},
          "output_type": "display_data"
        },
        {
          "data": {
            "application/vnd.jupyter.widget-view+json": {
              "model_id": "4b214f2375644d308942c16e259a6649",
              "version_major": 2,
              "version_minor": 0
            },
            "text/plain": [
              "Predicting: 52it [00:00, ?it/s]"
            ]
          },
          "metadata": {},
          "output_type": "display_data"
        },
        {
          "data": {
            "application/vnd.jupyter.widget-view+json": {
              "model_id": "94db4968e49a402e8cfb826efc168d6b",
              "version_major": 2,
              "version_minor": 0
            },
            "text/plain": [
              "Predicting: 52it [00:00, ?it/s]"
            ]
          },
          "metadata": {},
          "output_type": "display_data"
        },
        {
          "data": {
            "application/vnd.jupyter.widget-view+json": {
              "model_id": "658df9ff038644c98b274168c359d1f8",
              "version_major": 2,
              "version_minor": 0
            },
            "text/plain": [
              "Predicting: 52it [00:00, ?it/s]"
            ]
          },
          "metadata": {},
          "output_type": "display_data"
        },
        {
          "data": {
            "application/vnd.jupyter.widget-view+json": {
              "model_id": "3baedfadd2a24093bfda1a146caacef5",
              "version_major": 2,
              "version_minor": 0
            },
            "text/plain": [
              "Predicting: 52it [00:00, ?it/s]"
            ]
          },
          "metadata": {},
          "output_type": "display_data"
        },
        {
          "data": {
            "application/vnd.jupyter.widget-view+json": {
              "model_id": "5acb3016beb640c5847e57ebac1b4d35",
              "version_major": 2,
              "version_minor": 0
            },
            "text/plain": [
              "Predicting: 52it [00:00, ?it/s]"
            ]
          },
          "metadata": {},
          "output_type": "display_data"
        },
        {
          "data": {
            "application/vnd.jupyter.widget-view+json": {
              "model_id": "c412e3ba37284016a561b9169b5ac911",
              "version_major": 2,
              "version_minor": 0
            },
            "text/plain": [
              "Predicting: 52it [00:00, ?it/s]"
            ]
          },
          "metadata": {},
          "output_type": "display_data"
        },
        {
          "data": {
            "application/vnd.jupyter.widget-view+json": {
              "model_id": "6fe6d6042b3542238d28cb5170b68234",
              "version_major": 2,
              "version_minor": 0
            },
            "text/plain": [
              "Predicting: 52it [00:00, ?it/s]"
            ]
          },
          "metadata": {},
          "output_type": "display_data"
        },
        {
          "data": {
            "application/vnd.jupyter.widget-view+json": {
              "model_id": "b7f53ef1dcdd45f3b13735e13ba3718b",
              "version_major": 2,
              "version_minor": 0
            },
            "text/plain": [
              "Predicting: 52it [00:00, ?it/s]"
            ]
          },
          "metadata": {},
          "output_type": "display_data"
        },
        {
          "data": {
            "application/vnd.jupyter.widget-view+json": {
              "model_id": "788b5c2ec49c461a912f30014364d36b",
              "version_major": 2,
              "version_minor": 0
            },
            "text/plain": [
              "Predicting: 52it [00:00, ?it/s]"
            ]
          },
          "metadata": {},
          "output_type": "display_data"
        },
        {
          "data": {
            "application/vnd.jupyter.widget-view+json": {
              "model_id": "649044537ede4f44b38781dfb37f4181",
              "version_major": 2,
              "version_minor": 0
            },
            "text/plain": [
              "Predicting: 52it [00:00, ?it/s]"
            ]
          },
          "metadata": {},
          "output_type": "display_data"
        },
        {
          "data": {
            "application/vnd.jupyter.widget-view+json": {
              "model_id": "ef77ed342e6143a7af7063ff36421120",
              "version_major": 2,
              "version_minor": 0
            },
            "text/plain": [
              "Predicting: 52it [00:00, ?it/s]"
            ]
          },
          "metadata": {},
          "output_type": "display_data"
        },
        {
          "data": {
            "application/vnd.jupyter.widget-view+json": {
              "model_id": "e9d7b6ce8b1449758db8bf7a8c29f1d1",
              "version_major": 2,
              "version_minor": 0
            },
            "text/plain": [
              "Predicting: 52it [00:00, ?it/s]"
            ]
          },
          "metadata": {},
          "output_type": "display_data"
        },
        {
          "data": {
            "application/vnd.jupyter.widget-view+json": {
              "model_id": "623423ac06414ed2a1e2013bcb1efbeb",
              "version_major": 2,
              "version_minor": 0
            },
            "text/plain": [
              "Predicting: 52it [00:00, ?it/s]"
            ]
          },
          "metadata": {},
          "output_type": "display_data"
        },
        {
          "data": {
            "application/vnd.jupyter.widget-view+json": {
              "model_id": "ed85c42bedda41918d0a74218ba6a5cb",
              "version_major": 2,
              "version_minor": 0
            },
            "text/plain": [
              "Predicting: 52it [00:00, ?it/s]"
            ]
          },
          "metadata": {},
          "output_type": "display_data"
        },
        {
          "data": {
            "application/vnd.jupyter.widget-view+json": {
              "model_id": "571640653d894cbfbd0d262ab3293af6",
              "version_major": 2,
              "version_minor": 0
            },
            "text/plain": [
              "Predicting: 52it [00:00, ?it/s]"
            ]
          },
          "metadata": {},
          "output_type": "display_data"
        },
        {
          "data": {
            "application/vnd.jupyter.widget-view+json": {
              "model_id": "2825074d667042d69c1e2322b3e53d70",
              "version_major": 2,
              "version_minor": 0
            },
            "text/plain": [
              "Predicting: 52it [00:00, ?it/s]"
            ]
          },
          "metadata": {},
          "output_type": "display_data"
        },
        {
          "data": {
            "application/vnd.jupyter.widget-view+json": {
              "model_id": "5bb03216bc20419489e058e658159ddb",
              "version_major": 2,
              "version_minor": 0
            },
            "text/plain": [
              "Predicting: 52it [00:00, ?it/s]"
            ]
          },
          "metadata": {},
          "output_type": "display_data"
        },
        {
          "data": {
            "application/vnd.jupyter.widget-view+json": {
              "model_id": "84b2c922bc4a4b609ba436814f464b04",
              "version_major": 2,
              "version_minor": 0
            },
            "text/plain": [
              "Predicting: 52it [00:00, ?it/s]"
            ]
          },
          "metadata": {},
          "output_type": "display_data"
        },
        {
          "data": {
            "application/vnd.jupyter.widget-view+json": {
              "model_id": "15bd0746fbf84a3f8c4ce5cea8b337d7",
              "version_major": 2,
              "version_minor": 0
            },
            "text/plain": [
              "Predicting: 52it [00:00, ?it/s]"
            ]
          },
          "metadata": {},
          "output_type": "display_data"
        },
        {
          "data": {
            "application/vnd.jupyter.widget-view+json": {
              "model_id": "c2acb019c29e4e5a81d039a16d0f7046",
              "version_major": 2,
              "version_minor": 0
            },
            "text/plain": [
              "Predicting: 52it [00:00, ?it/s]"
            ]
          },
          "metadata": {},
          "output_type": "display_data"
        },
        {
          "data": {
            "application/vnd.jupyter.widget-view+json": {
              "model_id": "748d86d160254c84aecdfde3c786c612",
              "version_major": 2,
              "version_minor": 0
            },
            "text/plain": [
              "Predicting: 52it [00:00, ?it/s]"
            ]
          },
          "metadata": {},
          "output_type": "display_data"
        },
        {
          "data": {
            "application/vnd.jupyter.widget-view+json": {
              "model_id": "9a9368f99bc64bf6ad47154894aa8160",
              "version_major": 2,
              "version_minor": 0
            },
            "text/plain": [
              "Predicting: 52it [00:00, ?it/s]"
            ]
          },
          "metadata": {},
          "output_type": "display_data"
        },
        {
          "data": {
            "application/vnd.jupyter.widget-view+json": {
              "model_id": "5a7fce58221841f4885cf751596d5c9e",
              "version_major": 2,
              "version_minor": 0
            },
            "text/plain": [
              "Predicting: 52it [00:00, ?it/s]"
            ]
          },
          "metadata": {},
          "output_type": "display_data"
        },
        {
          "data": {
            "application/vnd.jupyter.widget-view+json": {
              "model_id": "9fb51d98b14d457e9ffbe662a02c54fa",
              "version_major": 2,
              "version_minor": 0
            },
            "text/plain": [
              "Predicting: 52it [00:00, ?it/s]"
            ]
          },
          "metadata": {},
          "output_type": "display_data"
        },
        {
          "data": {
            "application/vnd.jupyter.widget-view+json": {
              "model_id": "4cdb8861f2f5463888fa3a81bbccbb33",
              "version_major": 2,
              "version_minor": 0
            },
            "text/plain": [
              "Predicting: 52it [00:00, ?it/s]"
            ]
          },
          "metadata": {},
          "output_type": "display_data"
        },
        {
          "data": {
            "application/vnd.jupyter.widget-view+json": {
              "model_id": "b0d9d0c71e284f9c8f52b5c7bccc4746",
              "version_major": 2,
              "version_minor": 0
            },
            "text/plain": [
              "Predicting: 52it [00:00, ?it/s]"
            ]
          },
          "metadata": {},
          "output_type": "display_data"
        },
        {
          "data": {
            "application/vnd.jupyter.widget-view+json": {
              "model_id": "36b81d9248c64cab9f2a70745c568974",
              "version_major": 2,
              "version_minor": 0
            },
            "text/plain": [
              "Predicting: 52it [00:00, ?it/s]"
            ]
          },
          "metadata": {},
          "output_type": "display_data"
        },
        {
          "data": {
            "application/vnd.jupyter.widget-view+json": {
              "model_id": "995cf152d3834c0bb890008aac5cf4e2",
              "version_major": 2,
              "version_minor": 0
            },
            "text/plain": [
              "Predicting: 52it [00:00, ?it/s]"
            ]
          },
          "metadata": {},
          "output_type": "display_data"
        },
        {
          "data": {
            "application/vnd.jupyter.widget-view+json": {
              "model_id": "39a00450fd2a46438bd4e7611bb26787",
              "version_major": 2,
              "version_minor": 0
            },
            "text/plain": [
              "Predicting: 52it [00:00, ?it/s]"
            ]
          },
          "metadata": {},
          "output_type": "display_data"
        },
        {
          "data": {
            "application/vnd.jupyter.widget-view+json": {
              "model_id": "d587645589d743da99e24e4f79df7684",
              "version_major": 2,
              "version_minor": 0
            },
            "text/plain": [
              "Predicting: 52it [00:00, ?it/s]"
            ]
          },
          "metadata": {},
          "output_type": "display_data"
        },
        {
          "data": {
            "application/vnd.jupyter.widget-view+json": {
              "model_id": "84291500a35a44d0876cfe83dd18d6e6",
              "version_major": 2,
              "version_minor": 0
            },
            "text/plain": [
              "Predicting: 52it [00:00, ?it/s]"
            ]
          },
          "metadata": {},
          "output_type": "display_data"
        },
        {
          "data": {
            "application/vnd.jupyter.widget-view+json": {
              "model_id": "9ae5edbfe36a46fb813d1c93d3f15ab6",
              "version_major": 2,
              "version_minor": 0
            },
            "text/plain": [
              "Predicting: 52it [00:00, ?it/s]"
            ]
          },
          "metadata": {},
          "output_type": "display_data"
        },
        {
          "data": {
            "application/vnd.jupyter.widget-view+json": {
              "model_id": "754ec21bfd5147ca9de7ebf35a243206",
              "version_major": 2,
              "version_minor": 0
            },
            "text/plain": [
              "Predicting: 52it [00:00, ?it/s]"
            ]
          },
          "metadata": {},
          "output_type": "display_data"
        },
        {
          "data": {
            "application/vnd.jupyter.widget-view+json": {
              "model_id": "22ad3ff01a484696a78e108a4031fc69",
              "version_major": 2,
              "version_minor": 0
            },
            "text/plain": [
              "Predicting: 52it [00:00, ?it/s]"
            ]
          },
          "metadata": {},
          "output_type": "display_data"
        },
        {
          "data": {
            "application/vnd.jupyter.widget-view+json": {
              "model_id": "0871421f43d44cc98a2b83a07d71383c",
              "version_major": 2,
              "version_minor": 0
            },
            "text/plain": [
              "Predicting: 52it [00:00, ?it/s]"
            ]
          },
          "metadata": {},
          "output_type": "display_data"
        },
        {
          "data": {
            "application/vnd.jupyter.widget-view+json": {
              "model_id": "525196b0fcbb4b8ebf58af2886e752c0",
              "version_major": 2,
              "version_minor": 0
            },
            "text/plain": [
              "Predicting: 52it [00:00, ?it/s]"
            ]
          },
          "metadata": {},
          "output_type": "display_data"
        },
        {
          "data": {
            "application/vnd.jupyter.widget-view+json": {
              "model_id": "25a5b169b31a4328adb2e3134fab5ea6",
              "version_major": 2,
              "version_minor": 0
            },
            "text/plain": [
              "Predicting: 52it [00:00, ?it/s]"
            ]
          },
          "metadata": {},
          "output_type": "display_data"
        },
        {
          "data": {
            "application/vnd.jupyter.widget-view+json": {
              "model_id": "47d6a63f8d21403ebf1c49ecf33286e3",
              "version_major": 2,
              "version_minor": 0
            },
            "text/plain": [
              "Predicting: 52it [00:00, ?it/s]"
            ]
          },
          "metadata": {},
          "output_type": "display_data"
        },
        {
          "data": {
            "application/vnd.jupyter.widget-view+json": {
              "model_id": "111e86aae40147928a42c4eadd9e8b41",
              "version_major": 2,
              "version_minor": 0
            },
            "text/plain": [
              "Predicting: 52it [00:00, ?it/s]"
            ]
          },
          "metadata": {},
          "output_type": "display_data"
        },
        {
          "data": {
            "application/vnd.jupyter.widget-view+json": {
              "model_id": "6ed520249d024969bd72a0e381ded4f9",
              "version_major": 2,
              "version_minor": 0
            },
            "text/plain": [
              "Predicting: 52it [00:00, ?it/s]"
            ]
          },
          "metadata": {},
          "output_type": "display_data"
        },
        {
          "data": {
            "application/vnd.jupyter.widget-view+json": {
              "model_id": "02bc7d5b764444cab0210b0eb0c2e0a7",
              "version_major": 2,
              "version_minor": 0
            },
            "text/plain": [
              "Predicting: 52it [00:00, ?it/s]"
            ]
          },
          "metadata": {},
          "output_type": "display_data"
        },
        {
          "data": {
            "application/vnd.jupyter.widget-view+json": {
              "model_id": "8d6d76968b5947deb6dc1aeb896d2234",
              "version_major": 2,
              "version_minor": 0
            },
            "text/plain": [
              "Predicting: 52it [00:00, ?it/s]"
            ]
          },
          "metadata": {},
          "output_type": "display_data"
        },
        {
          "data": {
            "application/vnd.jupyter.widget-view+json": {
              "model_id": "abd19a66c8654fc2b0a3de7732983bbc",
              "version_major": 2,
              "version_minor": 0
            },
            "text/plain": [
              "Predicting: 52it [00:00, ?it/s]"
            ]
          },
          "metadata": {},
          "output_type": "display_data"
        }
      ],
      "source": [
        "# %%capture\n",
        "forecast = m.predict(test_df)\n"
      ]
    },
    {
      "cell_type": "code",
      "execution_count": null,
      "id": "efec0db2-f976-4830-92bb-94a34aa293b9",
      "metadata": {
        "tags": [],
        "id": "efec0db2-f976-4830-92bb-94a34aa293b9",
        "outputId": "d0a1942e-5334-41f7-b4ae-50e4f8c12c65"
      },
      "outputs": [
        {
          "data": {
            "text/html": [
              "<div>\n",
              "<style scoped>\n",
              "    .dataframe tbody tr th:only-of-type {\n",
              "        vertical-align: middle;\n",
              "    }\n",
              "\n",
              "    .dataframe tbody tr th {\n",
              "        vertical-align: top;\n",
              "    }\n",
              "\n",
              "    .dataframe thead th {\n",
              "        text-align: right;\n",
              "    }\n",
              "</style>\n",
              "<table border=\"1\" class=\"dataframe\">\n",
              "  <thead>\n",
              "    <tr style=\"text-align: right;\">\n",
              "      <th></th>\n",
              "      <th>ds</th>\n",
              "      <th>y</th>\n",
              "      <th>ID</th>\n",
              "      <th>yhat1</th>\n",
              "      <th>trend</th>\n",
              "      <th>season_yearly</th>\n",
              "    </tr>\n",
              "  </thead>\n",
              "  <tbody>\n",
              "    <tr>\n",
              "      <th>0</th>\n",
              "      <td>2021-04-01</td>\n",
              "      <td>4.290820e+05</td>\n",
              "      <td>AL</td>\n",
              "      <td>3.972515e+05</td>\n",
              "      <td>385236.71875</td>\n",
              "      <td>12014.784180</td>\n",
              "    </tr>\n",
              "    <tr>\n",
              "      <th>1</th>\n",
              "      <td>2021-07-01</td>\n",
              "      <td>4.082778e+05</td>\n",
              "      <td>AL</td>\n",
              "      <td>4.060011e+05</td>\n",
              "      <td>390863.78125</td>\n",
              "      <td>15137.335938</td>\n",
              "    </tr>\n",
              "    <tr>\n",
              "      <th>2</th>\n",
              "      <td>2021-10-01</td>\n",
              "      <td>4.200962e+05</td>\n",
              "      <td>AL</td>\n",
              "      <td>4.225998e+05</td>\n",
              "      <td>396552.65625</td>\n",
              "      <td>26047.093750</td>\n",
              "    </tr>\n",
              "    <tr>\n",
              "      <th>3</th>\n",
              "      <td>2022-01-01</td>\n",
              "      <td>3.811670e+05</td>\n",
              "      <td>AL</td>\n",
              "      <td>3.848049e+05</td>\n",
              "      <td>402241.53125</td>\n",
              "      <td>-17436.595703</td>\n",
              "    </tr>\n",
              "    <tr>\n",
              "      <th>4</th>\n",
              "      <td>2022-04-01</td>\n",
              "      <td>4.404492e+05</td>\n",
              "      <td>AL</td>\n",
              "      <td>4.289818e+05</td>\n",
              "      <td>407806.75000</td>\n",
              "      <td>21175.037109</td>\n",
              "    </tr>\n",
              "    <tr>\n",
              "      <th>...</th>\n",
              "      <td>...</td>\n",
              "      <td>...</td>\n",
              "      <td>...</td>\n",
              "      <td>...</td>\n",
              "      <td>...</td>\n",
              "      <td>...</td>\n",
              "    </tr>\n",
              "    <tr>\n",
              "      <th>410</th>\n",
              "      <td>2021-04-01</td>\n",
              "      <td>1.141655e+06</td>\n",
              "      <td>ZA</td>\n",
              "      <td>1.009385e+06</td>\n",
              "      <td>986423.87500</td>\n",
              "      <td>22961.500000</td>\n",
              "    </tr>\n",
              "    <tr>\n",
              "      <th>411</th>\n",
              "      <td>2021-07-01</td>\n",
              "      <td>1.124280e+06</td>\n",
              "      <td>ZA</td>\n",
              "      <td>1.104117e+06</td>\n",
              "      <td>985332.43750</td>\n",
              "      <td>118784.523438</td>\n",
              "    </tr>\n",
              "    <tr>\n",
              "      <th>412</th>\n",
              "      <td>2021-10-01</td>\n",
              "      <td>1.146428e+06</td>\n",
              "      <td>ZA</td>\n",
              "      <td>1.146395e+06</td>\n",
              "      <td>984229.06250</td>\n",
              "      <td>162166.046875</td>\n",
              "    </tr>\n",
              "    <tr>\n",
              "      <th>413</th>\n",
              "      <td>2022-01-01</td>\n",
              "      <td>1.122431e+06</td>\n",
              "      <td>ZA</td>\n",
              "      <td>1.103089e+06</td>\n",
              "      <td>983125.62500</td>\n",
              "      <td>119963.609375</td>\n",
              "    </tr>\n",
              "    <tr>\n",
              "      <th>414</th>\n",
              "      <td>2022-04-01</td>\n",
              "      <td>1.145027e+06</td>\n",
              "      <td>ZA</td>\n",
              "      <td>1.058815e+06</td>\n",
              "      <td>982046.25000</td>\n",
              "      <td>76768.757812</td>\n",
              "    </tr>\n",
              "  </tbody>\n",
              "</table>\n",
              "<p>415 rows × 6 columns</p>\n",
              "</div>"
            ],
            "text/plain": [
              "            ds             y  ID         yhat1         trend  season_yearly\n",
              "0   2021-04-01  4.290820e+05  AL  3.972515e+05  385236.71875   12014.784180\n",
              "1   2021-07-01  4.082778e+05  AL  4.060011e+05  390863.78125   15137.335938\n",
              "2   2021-10-01  4.200962e+05  AL  4.225998e+05  396552.65625   26047.093750\n",
              "3   2022-01-01  3.811670e+05  AL  3.848049e+05  402241.53125  -17436.595703\n",
              "4   2022-04-01  4.404492e+05  AL  4.289818e+05  407806.75000   21175.037109\n",
              "..         ...           ...  ..           ...           ...            ...\n",
              "410 2021-04-01  1.141655e+06  ZA  1.009385e+06  986423.87500   22961.500000\n",
              "411 2021-07-01  1.124280e+06  ZA  1.104117e+06  985332.43750  118784.523438\n",
              "412 2021-10-01  1.146428e+06  ZA  1.146395e+06  984229.06250  162166.046875\n",
              "413 2022-01-01  1.122431e+06  ZA  1.103089e+06  983125.62500  119963.609375\n",
              "414 2022-04-01  1.145027e+06  ZA  1.058815e+06  982046.25000   76768.757812\n",
              "\n",
              "[415 rows x 6 columns]"
            ]
          },
          "execution_count": 54,
          "metadata": {},
          "output_type": "execute_result"
        }
      ],
      "source": [
        "forecast"
      ]
    },
    {
      "cell_type": "code",
      "execution_count": null,
      "id": "8c90c64a-8e8a-495b-8df5-bb35f3cd94fa",
      "metadata": {
        "tags": [],
        "id": "8c90c64a-8e8a-495b-8df5-bb35f3cd94fa",
        "outputId": "e28ad88b-d0cb-4676-9b55-61eae6fd03df"
      },
      "outputs": [
        {
          "data": {
            "text/html": [
              "<div>\n",
              "<style scoped>\n",
              "    .dataframe tbody tr th:only-of-type {\n",
              "        vertical-align: middle;\n",
              "    }\n",
              "\n",
              "    .dataframe tbody tr th {\n",
              "        vertical-align: top;\n",
              "    }\n",
              "\n",
              "    .dataframe thead th {\n",
              "        text-align: right;\n",
              "    }\n",
              "</style>\n",
              "<table border=\"1\" class=\"dataframe\">\n",
              "  <thead>\n",
              "    <tr style=\"text-align: right;\">\n",
              "      <th></th>\n",
              "      <th>MAE</th>\n",
              "      <th>RMSE</th>\n",
              "      <th>Loss</th>\n",
              "      <th>RegLoss</th>\n",
              "      <th>epoch</th>\n",
              "    </tr>\n",
              "  </thead>\n",
              "  <tbody>\n",
              "    <tr>\n",
              "      <th>0</th>\n",
              "      <td>0.725163</td>\n",
              "      <td>0.803274</td>\n",
              "      <td>0.235995</td>\n",
              "      <td>0.0</td>\n",
              "      <td>0</td>\n",
              "    </tr>\n",
              "    <tr>\n",
              "      <th>1</th>\n",
              "      <td>0.703235</td>\n",
              "      <td>0.782781</td>\n",
              "      <td>0.223455</td>\n",
              "      <td>0.0</td>\n",
              "      <td>1</td>\n",
              "    </tr>\n",
              "    <tr>\n",
              "      <th>2</th>\n",
              "      <td>0.682752</td>\n",
              "      <td>0.762619</td>\n",
              "      <td>0.211681</td>\n",
              "      <td>0.0</td>\n",
              "      <td>2</td>\n",
              "    </tr>\n",
              "    <tr>\n",
              "      <th>3</th>\n",
              "      <td>0.662909</td>\n",
              "      <td>0.743077</td>\n",
              "      <td>0.200356</td>\n",
              "      <td>0.0</td>\n",
              "      <td>3</td>\n",
              "    </tr>\n",
              "    <tr>\n",
              "      <th>4</th>\n",
              "      <td>0.643578</td>\n",
              "      <td>0.722785</td>\n",
              "      <td>0.189652</td>\n",
              "      <td>0.0</td>\n",
              "      <td>4</td>\n",
              "    </tr>\n",
              "    <tr>\n",
              "      <th>...</th>\n",
              "      <td>...</td>\n",
              "      <td>...</td>\n",
              "      <td>...</td>\n",
              "      <td>...</td>\n",
              "      <td>...</td>\n",
              "    </tr>\n",
              "    <tr>\n",
              "      <th>2995</th>\n",
              "      <td>0.016580</td>\n",
              "      <td>0.022587</td>\n",
              "      <td>0.000162</td>\n",
              "      <td>0.0</td>\n",
              "      <td>2995</td>\n",
              "    </tr>\n",
              "    <tr>\n",
              "      <th>2996</th>\n",
              "      <td>0.016580</td>\n",
              "      <td>0.022872</td>\n",
              "      <td>0.000162</td>\n",
              "      <td>0.0</td>\n",
              "      <td>2996</td>\n",
              "    </tr>\n",
              "    <tr>\n",
              "      <th>2997</th>\n",
              "      <td>0.016580</td>\n",
              "      <td>0.022760</td>\n",
              "      <td>0.000162</td>\n",
              "      <td>0.0</td>\n",
              "      <td>2997</td>\n",
              "    </tr>\n",
              "    <tr>\n",
              "      <th>2998</th>\n",
              "      <td>0.016580</td>\n",
              "      <td>0.022682</td>\n",
              "      <td>0.000162</td>\n",
              "      <td>0.0</td>\n",
              "      <td>2998</td>\n",
              "    </tr>\n",
              "    <tr>\n",
              "      <th>2999</th>\n",
              "      <td>0.016579</td>\n",
              "      <td>0.022884</td>\n",
              "      <td>0.000162</td>\n",
              "      <td>0.0</td>\n",
              "      <td>2999</td>\n",
              "    </tr>\n",
              "  </tbody>\n",
              "</table>\n",
              "<p>3000 rows × 5 columns</p>\n",
              "</div>"
            ],
            "text/plain": [
              "           MAE      RMSE      Loss  RegLoss  epoch\n",
              "0     0.725163  0.803274  0.235995      0.0      0\n",
              "1     0.703235  0.782781  0.223455      0.0      1\n",
              "2     0.682752  0.762619  0.211681      0.0      2\n",
              "3     0.662909  0.743077  0.200356      0.0      3\n",
              "4     0.643578  0.722785  0.189652      0.0      4\n",
              "...        ...       ...       ...      ...    ...\n",
              "2995  0.016580  0.022587  0.000162      0.0   2995\n",
              "2996  0.016580  0.022872  0.000162      0.0   2996\n",
              "2997  0.016580  0.022760  0.000162      0.0   2997\n",
              "2998  0.016580  0.022682  0.000162      0.0   2998\n",
              "2999  0.016579  0.022884  0.000162      0.0   2999\n",
              "\n",
              "[3000 rows x 5 columns]"
            ]
          },
          "execution_count": 57,
          "metadata": {},
          "output_type": "execute_result"
        }
      ],
      "source": [
        "metrics"
      ]
    },
    {
      "cell_type": "code",
      "execution_count": null,
      "id": "5246ebc5-5bb3-4002-b1bc-4cdd380870c4",
      "metadata": {
        "tags": [],
        "id": "5246ebc5-5bb3-4002-b1bc-4cdd380870c4"
      },
      "outputs": [],
      "source": [
        "preds.to_csv('/home/jovyan/Untitled Folder/preds.csv')"
      ]
    },
    {
      "cell_type": "code",
      "execution_count": null,
      "id": "e753c694-979c-42ac-af8d-3c8d817b7e24",
      "metadata": {
        "tags": [],
        "id": "e753c694-979c-42ac-af8d-3c8d817b7e24"
      },
      "outputs": [],
      "source": [
        "future = m.make_future_dataframe(df_global_2, events_df=None, periods=8, n_historic_predictions=True)"
      ]
    },
    {
      "cell_type": "code",
      "execution_count": null,
      "id": "000bf4e0-698b-4dc3-b4d7-bb6b48c05f47",
      "metadata": {
        "tags": [],
        "id": "000bf4e0-698b-4dc3-b4d7-bb6b48c05f47",
        "outputId": "ec2739db-bd94-42e9-dfbd-7265e32b271a",
        "colab": {
          "referenced_widgets": [
            "d458b31bb683475f9aaa1bb90697dac7",
            "c2764e98d28a453695f1acf2e02840c8",
            "53c72c1c98da4b6298bd0329c4c4f131",
            "00d4ddf0c64d4d259c7023d73985b6de",
            "320bbc33667449d582f8dce7b14afe39",
            "c14ca84cf12e44fe8559a5487417e9c1",
            "77a9faad0ee548f39ba302becdccf0b1",
            "66d5966bb6b74771aa796f59ed1396a2",
            "54df0cf981f24f6cb05780d4d7f62b2d",
            "8d19682b602b49a3886456cd4aa48a6a",
            "a19383b33fb74f7bbad7bce4906750b5",
            "08f1e46ec9514bb7baaefd38cec577d4",
            "737fcb00a7ef473d805332533bf14994",
            "3d320a0b2b4e4a508ad4fc827abdddac",
            "3cc09ed39e6e4a8aaf67566e69976079",
            "8b5e5fcfa0c54d6ea636f887b83b4d1f",
            "02a68a4e25fc445c81619d7b85af1602",
            "70ddf5c24aaf42e881ab7ef0714032e2",
            "73d61aaca5274c4e9ff3f7ba1bedbfff",
            "b2c8337cf8b840e69b8d8f92a8a7aea2",
            "ead75d98fa8b49ef8323cc8adf163408",
            "f14376af1b4a47119c2ad0dfd00a1867",
            "752a0872b4be4037b98cc63a3ce5cc77",
            "249ce84714d041868a3bf97e6fff61b7",
            "3d77e68cffec4ad3aa19d9b455e50c29",
            "9f32d2286534456981ba53d1da574a47",
            "d0ec4fb5a6884e76a21fd051c5400d8d",
            "766551461e8d416dbd627c1b730d7398",
            "aef3978ab5d142c29c164dda8abd43b3",
            "6d414ac7f499492283aba43715231a17",
            "138a4de1b853466bbe9ccf5e18efe1d6",
            "8baa3446a05948848be50dcef6e35674",
            "7e6976b5d9f3467da4fda258abd00dd4",
            "4f3630956516417aaea535b1c6aca7b0",
            "50413f3c48b94f82adabb7f381b35c12",
            "794e5f9132a44fe7a00eb7e3b8224001",
            "6d907178d310403e847aaa77f1f32060",
            "078f19cd32f4484db51514f408552e28",
            "510cfe7997a3499bb5d6addef1da00a9",
            "44943ccc0d1d4e3eb2ce4f0c6df8fc4d",
            "5d874c97773c4a62bd7c080e276852ac",
            "fde3c5e437ac4b5b99f31f1455b3db9a",
            "35223eed4f6143eab9596bf564a96637",
            "b8f37a6a973b48b3a14a057a37098795",
            "5a4665c5dd424f10950f049f6ebea2a7",
            "852009e37a1b402b9272cb78e7b767a9",
            "dff7e418d3be4b5ab3107370ec278ba4",
            "176fbe4b99c54df98c914813705b0ff3",
            "0edb6ac225284595b4586fd0b30049c9",
            "814523e1a70e4927b805ebda0ac2d593",
            "529a386bef7a416091e975478cd14efb",
            "7b11abdeb7f845aeb8d005d622e605c4",
            "7bcfd3cc02484379aeacbf01701148f4",
            "4fce1a50ff04423184dddecaff0fb1c9",
            "322e33c538ea4a0195de258999831a1e",
            "76369b19a9e74ac2a68ffdebc1baa8da",
            "425a16a4dbed4300854f8e78d9e14a20",
            "e0c0d51b2969420584d53a2fc5f1f934",
            "714f66961c43457b9c05e490ee28c0e7",
            "32505093dee54cd8b2559eeeb1943a2b",
            "16726bcd687341ceb6ec0fdc5636efdb",
            "fbfc704fb4364215bd378ed2f9a5a80d",
            "5510e735039243e6b015347d2a90fde2",
            "42619ee287e2497c9194e74050b477ff",
            "1bf38278d648477f91588f4084d46ad8",
            "35c3e751df724da7a57377bcc8bcdc16",
            "ad0af08f507b469c9f825a824b3f264d",
            "38965202e51343b1ac79b3fde821343d",
            "4e2f5e385b854c938114ff5ecfab7886",
            "d5472ccb94694bf1b3c87bbb87ba860d",
            "9d2b773e0de84304a81788b9c9f99cd9",
            "8e111637cdba42b5bc59ba63998bc1b0",
            "1200b729941a4f2ab4f7161e6ebd5118",
            "92192b000e884a7ea89ffdd684393a0a",
            "608b4c569576408aa741afce2338bfb1",
            "07ac5bc670374a4aa1e30cd7c63cb74f",
            "7f1011e26daf47049823cf62a1f3fb30",
            "653ed304f7d743eda9c44ac47fc531b5",
            "bd3e053c08a64176a36f2e628d3e49e5"
          ]
        }
      },
      "outputs": [
        {
          "data": {
            "application/vnd.jupyter.widget-view+json": {
              "model_id": "d458b31bb683475f9aaa1bb90697dac7",
              "version_major": 2,
              "version_minor": 0
            },
            "text/plain": [
              "Predicting: 52it [00:00, ?it/s]"
            ]
          },
          "metadata": {},
          "output_type": "display_data"
        },
        {
          "data": {
            "application/vnd.jupyter.widget-view+json": {
              "model_id": "c2764e98d28a453695f1acf2e02840c8",
              "version_major": 2,
              "version_minor": 0
            },
            "text/plain": [
              "Predicting: 52it [00:00, ?it/s]"
            ]
          },
          "metadata": {},
          "output_type": "display_data"
        },
        {
          "data": {
            "application/vnd.jupyter.widget-view+json": {
              "model_id": "53c72c1c98da4b6298bd0329c4c4f131",
              "version_major": 2,
              "version_minor": 0
            },
            "text/plain": [
              "Predicting: 52it [00:00, ?it/s]"
            ]
          },
          "metadata": {},
          "output_type": "display_data"
        },
        {
          "data": {
            "application/vnd.jupyter.widget-view+json": {
              "model_id": "00d4ddf0c64d4d259c7023d73985b6de",
              "version_major": 2,
              "version_minor": 0
            },
            "text/plain": [
              "Predicting: 52it [00:00, ?it/s]"
            ]
          },
          "metadata": {},
          "output_type": "display_data"
        },
        {
          "data": {
            "application/vnd.jupyter.widget-view+json": {
              "model_id": "320bbc33667449d582f8dce7b14afe39",
              "version_major": 2,
              "version_minor": 0
            },
            "text/plain": [
              "Predicting: 52it [00:00, ?it/s]"
            ]
          },
          "metadata": {},
          "output_type": "display_data"
        },
        {
          "data": {
            "application/vnd.jupyter.widget-view+json": {
              "model_id": "c14ca84cf12e44fe8559a5487417e9c1",
              "version_major": 2,
              "version_minor": 0
            },
            "text/plain": [
              "Predicting: 52it [00:00, ?it/s]"
            ]
          },
          "metadata": {},
          "output_type": "display_data"
        },
        {
          "data": {
            "application/vnd.jupyter.widget-view+json": {
              "model_id": "77a9faad0ee548f39ba302becdccf0b1",
              "version_major": 2,
              "version_minor": 0
            },
            "text/plain": [
              "Predicting: 52it [00:00, ?it/s]"
            ]
          },
          "metadata": {},
          "output_type": "display_data"
        },
        {
          "data": {
            "application/vnd.jupyter.widget-view+json": {
              "model_id": "66d5966bb6b74771aa796f59ed1396a2",
              "version_major": 2,
              "version_minor": 0
            },
            "text/plain": [
              "Predicting: 52it [00:00, ?it/s]"
            ]
          },
          "metadata": {},
          "output_type": "display_data"
        },
        {
          "data": {
            "application/vnd.jupyter.widget-view+json": {
              "model_id": "54df0cf981f24f6cb05780d4d7f62b2d",
              "version_major": 2,
              "version_minor": 0
            },
            "text/plain": [
              "Predicting: 52it [00:00, ?it/s]"
            ]
          },
          "metadata": {},
          "output_type": "display_data"
        },
        {
          "data": {
            "application/vnd.jupyter.widget-view+json": {
              "model_id": "8d19682b602b49a3886456cd4aa48a6a",
              "version_major": 2,
              "version_minor": 0
            },
            "text/plain": [
              "Predicting: 52it [00:00, ?it/s]"
            ]
          },
          "metadata": {},
          "output_type": "display_data"
        },
        {
          "data": {
            "application/vnd.jupyter.widget-view+json": {
              "model_id": "a19383b33fb74f7bbad7bce4906750b5",
              "version_major": 2,
              "version_minor": 0
            },
            "text/plain": [
              "Predicting: 52it [00:00, ?it/s]"
            ]
          },
          "metadata": {},
          "output_type": "display_data"
        },
        {
          "data": {
            "application/vnd.jupyter.widget-view+json": {
              "model_id": "08f1e46ec9514bb7baaefd38cec577d4",
              "version_major": 2,
              "version_minor": 0
            },
            "text/plain": [
              "Predicting: 52it [00:00, ?it/s]"
            ]
          },
          "metadata": {},
          "output_type": "display_data"
        },
        {
          "data": {
            "application/vnd.jupyter.widget-view+json": {
              "model_id": "737fcb00a7ef473d805332533bf14994",
              "version_major": 2,
              "version_minor": 0
            },
            "text/plain": [
              "Predicting: 52it [00:00, ?it/s]"
            ]
          },
          "metadata": {},
          "output_type": "display_data"
        },
        {
          "data": {
            "application/vnd.jupyter.widget-view+json": {
              "model_id": "3d320a0b2b4e4a508ad4fc827abdddac",
              "version_major": 2,
              "version_minor": 0
            },
            "text/plain": [
              "Predicting: 52it [00:00, ?it/s]"
            ]
          },
          "metadata": {},
          "output_type": "display_data"
        },
        {
          "data": {
            "application/vnd.jupyter.widget-view+json": {
              "model_id": "3cc09ed39e6e4a8aaf67566e69976079",
              "version_major": 2,
              "version_minor": 0
            },
            "text/plain": [
              "Predicting: 52it [00:00, ?it/s]"
            ]
          },
          "metadata": {},
          "output_type": "display_data"
        },
        {
          "data": {
            "application/vnd.jupyter.widget-view+json": {
              "model_id": "8b5e5fcfa0c54d6ea636f887b83b4d1f",
              "version_major": 2,
              "version_minor": 0
            },
            "text/plain": [
              "Predicting: 52it [00:00, ?it/s]"
            ]
          },
          "metadata": {},
          "output_type": "display_data"
        },
        {
          "data": {
            "application/vnd.jupyter.widget-view+json": {
              "model_id": "02a68a4e25fc445c81619d7b85af1602",
              "version_major": 2,
              "version_minor": 0
            },
            "text/plain": [
              "Predicting: 52it [00:00, ?it/s]"
            ]
          },
          "metadata": {},
          "output_type": "display_data"
        },
        {
          "data": {
            "application/vnd.jupyter.widget-view+json": {
              "model_id": "70ddf5c24aaf42e881ab7ef0714032e2",
              "version_major": 2,
              "version_minor": 0
            },
            "text/plain": [
              "Predicting: 52it [00:00, ?it/s]"
            ]
          },
          "metadata": {},
          "output_type": "display_data"
        },
        {
          "data": {
            "application/vnd.jupyter.widget-view+json": {
              "model_id": "73d61aaca5274c4e9ff3f7ba1bedbfff",
              "version_major": 2,
              "version_minor": 0
            },
            "text/plain": [
              "Predicting: 52it [00:00, ?it/s]"
            ]
          },
          "metadata": {},
          "output_type": "display_data"
        },
        {
          "data": {
            "application/vnd.jupyter.widget-view+json": {
              "model_id": "b2c8337cf8b840e69b8d8f92a8a7aea2",
              "version_major": 2,
              "version_minor": 0
            },
            "text/plain": [
              "Predicting: 52it [00:00, ?it/s]"
            ]
          },
          "metadata": {},
          "output_type": "display_data"
        },
        {
          "data": {
            "application/vnd.jupyter.widget-view+json": {
              "model_id": "ead75d98fa8b49ef8323cc8adf163408",
              "version_major": 2,
              "version_minor": 0
            },
            "text/plain": [
              "Predicting: 52it [00:00, ?it/s]"
            ]
          },
          "metadata": {},
          "output_type": "display_data"
        },
        {
          "data": {
            "application/vnd.jupyter.widget-view+json": {
              "model_id": "f14376af1b4a47119c2ad0dfd00a1867",
              "version_major": 2,
              "version_minor": 0
            },
            "text/plain": [
              "Predicting: 52it [00:00, ?it/s]"
            ]
          },
          "metadata": {},
          "output_type": "display_data"
        },
        {
          "data": {
            "application/vnd.jupyter.widget-view+json": {
              "model_id": "752a0872b4be4037b98cc63a3ce5cc77",
              "version_major": 2,
              "version_minor": 0
            },
            "text/plain": [
              "Predicting: 52it [00:00, ?it/s]"
            ]
          },
          "metadata": {},
          "output_type": "display_data"
        },
        {
          "data": {
            "application/vnd.jupyter.widget-view+json": {
              "model_id": "249ce84714d041868a3bf97e6fff61b7",
              "version_major": 2,
              "version_minor": 0
            },
            "text/plain": [
              "Predicting: 52it [00:00, ?it/s]"
            ]
          },
          "metadata": {},
          "output_type": "display_data"
        },
        {
          "data": {
            "application/vnd.jupyter.widget-view+json": {
              "model_id": "3d77e68cffec4ad3aa19d9b455e50c29",
              "version_major": 2,
              "version_minor": 0
            },
            "text/plain": [
              "Predicting: 52it [00:00, ?it/s]"
            ]
          },
          "metadata": {},
          "output_type": "display_data"
        },
        {
          "data": {
            "application/vnd.jupyter.widget-view+json": {
              "model_id": "9f32d2286534456981ba53d1da574a47",
              "version_major": 2,
              "version_minor": 0
            },
            "text/plain": [
              "Predicting: 52it [00:00, ?it/s]"
            ]
          },
          "metadata": {},
          "output_type": "display_data"
        },
        {
          "data": {
            "application/vnd.jupyter.widget-view+json": {
              "model_id": "d0ec4fb5a6884e76a21fd051c5400d8d",
              "version_major": 2,
              "version_minor": 0
            },
            "text/plain": [
              "Predicting: 52it [00:00, ?it/s]"
            ]
          },
          "metadata": {},
          "output_type": "display_data"
        },
        {
          "data": {
            "application/vnd.jupyter.widget-view+json": {
              "model_id": "766551461e8d416dbd627c1b730d7398",
              "version_major": 2,
              "version_minor": 0
            },
            "text/plain": [
              "Predicting: 52it [00:00, ?it/s]"
            ]
          },
          "metadata": {},
          "output_type": "display_data"
        },
        {
          "data": {
            "application/vnd.jupyter.widget-view+json": {
              "model_id": "aef3978ab5d142c29c164dda8abd43b3",
              "version_major": 2,
              "version_minor": 0
            },
            "text/plain": [
              "Predicting: 52it [00:00, ?it/s]"
            ]
          },
          "metadata": {},
          "output_type": "display_data"
        },
        {
          "data": {
            "application/vnd.jupyter.widget-view+json": {
              "model_id": "6d414ac7f499492283aba43715231a17",
              "version_major": 2,
              "version_minor": 0
            },
            "text/plain": [
              "Predicting: 52it [00:00, ?it/s]"
            ]
          },
          "metadata": {},
          "output_type": "display_data"
        },
        {
          "data": {
            "application/vnd.jupyter.widget-view+json": {
              "model_id": "138a4de1b853466bbe9ccf5e18efe1d6",
              "version_major": 2,
              "version_minor": 0
            },
            "text/plain": [
              "Predicting: 52it [00:00, ?it/s]"
            ]
          },
          "metadata": {},
          "output_type": "display_data"
        },
        {
          "data": {
            "application/vnd.jupyter.widget-view+json": {
              "model_id": "8baa3446a05948848be50dcef6e35674",
              "version_major": 2,
              "version_minor": 0
            },
            "text/plain": [
              "Predicting: 52it [00:00, ?it/s]"
            ]
          },
          "metadata": {},
          "output_type": "display_data"
        },
        {
          "data": {
            "application/vnd.jupyter.widget-view+json": {
              "model_id": "7e6976b5d9f3467da4fda258abd00dd4",
              "version_major": 2,
              "version_minor": 0
            },
            "text/plain": [
              "Predicting: 52it [00:00, ?it/s]"
            ]
          },
          "metadata": {},
          "output_type": "display_data"
        },
        {
          "data": {
            "application/vnd.jupyter.widget-view+json": {
              "model_id": "4f3630956516417aaea535b1c6aca7b0",
              "version_major": 2,
              "version_minor": 0
            },
            "text/plain": [
              "Predicting: 52it [00:00, ?it/s]"
            ]
          },
          "metadata": {},
          "output_type": "display_data"
        },
        {
          "data": {
            "application/vnd.jupyter.widget-view+json": {
              "model_id": "50413f3c48b94f82adabb7f381b35c12",
              "version_major": 2,
              "version_minor": 0
            },
            "text/plain": [
              "Predicting: 52it [00:00, ?it/s]"
            ]
          },
          "metadata": {},
          "output_type": "display_data"
        },
        {
          "data": {
            "application/vnd.jupyter.widget-view+json": {
              "model_id": "794e5f9132a44fe7a00eb7e3b8224001",
              "version_major": 2,
              "version_minor": 0
            },
            "text/plain": [
              "Predicting: 52it [00:00, ?it/s]"
            ]
          },
          "metadata": {},
          "output_type": "display_data"
        },
        {
          "data": {
            "application/vnd.jupyter.widget-view+json": {
              "model_id": "6d907178d310403e847aaa77f1f32060",
              "version_major": 2,
              "version_minor": 0
            },
            "text/plain": [
              "Predicting: 52it [00:00, ?it/s]"
            ]
          },
          "metadata": {},
          "output_type": "display_data"
        },
        {
          "data": {
            "application/vnd.jupyter.widget-view+json": {
              "model_id": "078f19cd32f4484db51514f408552e28",
              "version_major": 2,
              "version_minor": 0
            },
            "text/plain": [
              "Predicting: 52it [00:00, ?it/s]"
            ]
          },
          "metadata": {},
          "output_type": "display_data"
        },
        {
          "data": {
            "application/vnd.jupyter.widget-view+json": {
              "model_id": "510cfe7997a3499bb5d6addef1da00a9",
              "version_major": 2,
              "version_minor": 0
            },
            "text/plain": [
              "Predicting: 52it [00:00, ?it/s]"
            ]
          },
          "metadata": {},
          "output_type": "display_data"
        },
        {
          "data": {
            "application/vnd.jupyter.widget-view+json": {
              "model_id": "44943ccc0d1d4e3eb2ce4f0c6df8fc4d",
              "version_major": 2,
              "version_minor": 0
            },
            "text/plain": [
              "Predicting: 52it [00:00, ?it/s]"
            ]
          },
          "metadata": {},
          "output_type": "display_data"
        },
        {
          "data": {
            "application/vnd.jupyter.widget-view+json": {
              "model_id": "5d874c97773c4a62bd7c080e276852ac",
              "version_major": 2,
              "version_minor": 0
            },
            "text/plain": [
              "Predicting: 52it [00:00, ?it/s]"
            ]
          },
          "metadata": {},
          "output_type": "display_data"
        },
        {
          "data": {
            "application/vnd.jupyter.widget-view+json": {
              "model_id": "fde3c5e437ac4b5b99f31f1455b3db9a",
              "version_major": 2,
              "version_minor": 0
            },
            "text/plain": [
              "Predicting: 52it [00:00, ?it/s]"
            ]
          },
          "metadata": {},
          "output_type": "display_data"
        },
        {
          "data": {
            "application/vnd.jupyter.widget-view+json": {
              "model_id": "35223eed4f6143eab9596bf564a96637",
              "version_major": 2,
              "version_minor": 0
            },
            "text/plain": [
              "Predicting: 52it [00:00, ?it/s]"
            ]
          },
          "metadata": {},
          "output_type": "display_data"
        },
        {
          "data": {
            "application/vnd.jupyter.widget-view+json": {
              "model_id": "b8f37a6a973b48b3a14a057a37098795",
              "version_major": 2,
              "version_minor": 0
            },
            "text/plain": [
              "Predicting: 52it [00:00, ?it/s]"
            ]
          },
          "metadata": {},
          "output_type": "display_data"
        },
        {
          "data": {
            "application/vnd.jupyter.widget-view+json": {
              "model_id": "5a4665c5dd424f10950f049f6ebea2a7",
              "version_major": 2,
              "version_minor": 0
            },
            "text/plain": [
              "Predicting: 52it [00:00, ?it/s]"
            ]
          },
          "metadata": {},
          "output_type": "display_data"
        },
        {
          "data": {
            "application/vnd.jupyter.widget-view+json": {
              "model_id": "852009e37a1b402b9272cb78e7b767a9",
              "version_major": 2,
              "version_minor": 0
            },
            "text/plain": [
              "Predicting: 52it [00:00, ?it/s]"
            ]
          },
          "metadata": {},
          "output_type": "display_data"
        },
        {
          "data": {
            "application/vnd.jupyter.widget-view+json": {
              "model_id": "dff7e418d3be4b5ab3107370ec278ba4",
              "version_major": 2,
              "version_minor": 0
            },
            "text/plain": [
              "Predicting: 52it [00:00, ?it/s]"
            ]
          },
          "metadata": {},
          "output_type": "display_data"
        },
        {
          "data": {
            "application/vnd.jupyter.widget-view+json": {
              "model_id": "176fbe4b99c54df98c914813705b0ff3",
              "version_major": 2,
              "version_minor": 0
            },
            "text/plain": [
              "Predicting: 52it [00:00, ?it/s]"
            ]
          },
          "metadata": {},
          "output_type": "display_data"
        },
        {
          "data": {
            "application/vnd.jupyter.widget-view+json": {
              "model_id": "0edb6ac225284595b4586fd0b30049c9",
              "version_major": 2,
              "version_minor": 0
            },
            "text/plain": [
              "Predicting: 52it [00:00, ?it/s]"
            ]
          },
          "metadata": {},
          "output_type": "display_data"
        },
        {
          "data": {
            "application/vnd.jupyter.widget-view+json": {
              "model_id": "814523e1a70e4927b805ebda0ac2d593",
              "version_major": 2,
              "version_minor": 0
            },
            "text/plain": [
              "Predicting: 52it [00:00, ?it/s]"
            ]
          },
          "metadata": {},
          "output_type": "display_data"
        },
        {
          "data": {
            "application/vnd.jupyter.widget-view+json": {
              "model_id": "529a386bef7a416091e975478cd14efb",
              "version_major": 2,
              "version_minor": 0
            },
            "text/plain": [
              "Predicting: 52it [00:00, ?it/s]"
            ]
          },
          "metadata": {},
          "output_type": "display_data"
        },
        {
          "data": {
            "application/vnd.jupyter.widget-view+json": {
              "model_id": "7b11abdeb7f845aeb8d005d622e605c4",
              "version_major": 2,
              "version_minor": 0
            },
            "text/plain": [
              "Predicting: 52it [00:00, ?it/s]"
            ]
          },
          "metadata": {},
          "output_type": "display_data"
        },
        {
          "data": {
            "application/vnd.jupyter.widget-view+json": {
              "model_id": "7bcfd3cc02484379aeacbf01701148f4",
              "version_major": 2,
              "version_minor": 0
            },
            "text/plain": [
              "Predicting: 52it [00:00, ?it/s]"
            ]
          },
          "metadata": {},
          "output_type": "display_data"
        },
        {
          "data": {
            "application/vnd.jupyter.widget-view+json": {
              "model_id": "4fce1a50ff04423184dddecaff0fb1c9",
              "version_major": 2,
              "version_minor": 0
            },
            "text/plain": [
              "Predicting: 52it [00:00, ?it/s]"
            ]
          },
          "metadata": {},
          "output_type": "display_data"
        },
        {
          "data": {
            "application/vnd.jupyter.widget-view+json": {
              "model_id": "322e33c538ea4a0195de258999831a1e",
              "version_major": 2,
              "version_minor": 0
            },
            "text/plain": [
              "Predicting: 52it [00:00, ?it/s]"
            ]
          },
          "metadata": {},
          "output_type": "display_data"
        },
        {
          "data": {
            "application/vnd.jupyter.widget-view+json": {
              "model_id": "76369b19a9e74ac2a68ffdebc1baa8da",
              "version_major": 2,
              "version_minor": 0
            },
            "text/plain": [
              "Predicting: 52it [00:00, ?it/s]"
            ]
          },
          "metadata": {},
          "output_type": "display_data"
        },
        {
          "data": {
            "application/vnd.jupyter.widget-view+json": {
              "model_id": "425a16a4dbed4300854f8e78d9e14a20",
              "version_major": 2,
              "version_minor": 0
            },
            "text/plain": [
              "Predicting: 52it [00:00, ?it/s]"
            ]
          },
          "metadata": {},
          "output_type": "display_data"
        },
        {
          "data": {
            "application/vnd.jupyter.widget-view+json": {
              "model_id": "e0c0d51b2969420584d53a2fc5f1f934",
              "version_major": 2,
              "version_minor": 0
            },
            "text/plain": [
              "Predicting: 52it [00:00, ?it/s]"
            ]
          },
          "metadata": {},
          "output_type": "display_data"
        },
        {
          "data": {
            "application/vnd.jupyter.widget-view+json": {
              "model_id": "714f66961c43457b9c05e490ee28c0e7",
              "version_major": 2,
              "version_minor": 0
            },
            "text/plain": [
              "Predicting: 52it [00:00, ?it/s]"
            ]
          },
          "metadata": {},
          "output_type": "display_data"
        },
        {
          "data": {
            "application/vnd.jupyter.widget-view+json": {
              "model_id": "32505093dee54cd8b2559eeeb1943a2b",
              "version_major": 2,
              "version_minor": 0
            },
            "text/plain": [
              "Predicting: 52it [00:00, ?it/s]"
            ]
          },
          "metadata": {},
          "output_type": "display_data"
        },
        {
          "data": {
            "application/vnd.jupyter.widget-view+json": {
              "model_id": "16726bcd687341ceb6ec0fdc5636efdb",
              "version_major": 2,
              "version_minor": 0
            },
            "text/plain": [
              "Predicting: 52it [00:00, ?it/s]"
            ]
          },
          "metadata": {},
          "output_type": "display_data"
        },
        {
          "data": {
            "application/vnd.jupyter.widget-view+json": {
              "model_id": "fbfc704fb4364215bd378ed2f9a5a80d",
              "version_major": 2,
              "version_minor": 0
            },
            "text/plain": [
              "Predicting: 52it [00:00, ?it/s]"
            ]
          },
          "metadata": {},
          "output_type": "display_data"
        },
        {
          "data": {
            "application/vnd.jupyter.widget-view+json": {
              "model_id": "5510e735039243e6b015347d2a90fde2",
              "version_major": 2,
              "version_minor": 0
            },
            "text/plain": [
              "Predicting: 52it [00:00, ?it/s]"
            ]
          },
          "metadata": {},
          "output_type": "display_data"
        },
        {
          "data": {
            "application/vnd.jupyter.widget-view+json": {
              "model_id": "42619ee287e2497c9194e74050b477ff",
              "version_major": 2,
              "version_minor": 0
            },
            "text/plain": [
              "Predicting: 52it [00:00, ?it/s]"
            ]
          },
          "metadata": {},
          "output_type": "display_data"
        },
        {
          "data": {
            "application/vnd.jupyter.widget-view+json": {
              "model_id": "1bf38278d648477f91588f4084d46ad8",
              "version_major": 2,
              "version_minor": 0
            },
            "text/plain": [
              "Predicting: 52it [00:00, ?it/s]"
            ]
          },
          "metadata": {},
          "output_type": "display_data"
        },
        {
          "data": {
            "application/vnd.jupyter.widget-view+json": {
              "model_id": "35c3e751df724da7a57377bcc8bcdc16",
              "version_major": 2,
              "version_minor": 0
            },
            "text/plain": [
              "Predicting: 52it [00:00, ?it/s]"
            ]
          },
          "metadata": {},
          "output_type": "display_data"
        },
        {
          "data": {
            "application/vnd.jupyter.widget-view+json": {
              "model_id": "ad0af08f507b469c9f825a824b3f264d",
              "version_major": 2,
              "version_minor": 0
            },
            "text/plain": [
              "Predicting: 52it [00:00, ?it/s]"
            ]
          },
          "metadata": {},
          "output_type": "display_data"
        },
        {
          "data": {
            "application/vnd.jupyter.widget-view+json": {
              "model_id": "38965202e51343b1ac79b3fde821343d",
              "version_major": 2,
              "version_minor": 0
            },
            "text/plain": [
              "Predicting: 52it [00:00, ?it/s]"
            ]
          },
          "metadata": {},
          "output_type": "display_data"
        },
        {
          "data": {
            "application/vnd.jupyter.widget-view+json": {
              "model_id": "4e2f5e385b854c938114ff5ecfab7886",
              "version_major": 2,
              "version_minor": 0
            },
            "text/plain": [
              "Predicting: 52it [00:00, ?it/s]"
            ]
          },
          "metadata": {},
          "output_type": "display_data"
        },
        {
          "data": {
            "application/vnd.jupyter.widget-view+json": {
              "model_id": "d5472ccb94694bf1b3c87bbb87ba860d",
              "version_major": 2,
              "version_minor": 0
            },
            "text/plain": [
              "Predicting: 52it [00:00, ?it/s]"
            ]
          },
          "metadata": {},
          "output_type": "display_data"
        },
        {
          "data": {
            "application/vnd.jupyter.widget-view+json": {
              "model_id": "9d2b773e0de84304a81788b9c9f99cd9",
              "version_major": 2,
              "version_minor": 0
            },
            "text/plain": [
              "Predicting: 52it [00:00, ?it/s]"
            ]
          },
          "metadata": {},
          "output_type": "display_data"
        },
        {
          "data": {
            "application/vnd.jupyter.widget-view+json": {
              "model_id": "8e111637cdba42b5bc59ba63998bc1b0",
              "version_major": 2,
              "version_minor": 0
            },
            "text/plain": [
              "Predicting: 52it [00:00, ?it/s]"
            ]
          },
          "metadata": {},
          "output_type": "display_data"
        },
        {
          "data": {
            "application/vnd.jupyter.widget-view+json": {
              "model_id": "1200b729941a4f2ab4f7161e6ebd5118",
              "version_major": 2,
              "version_minor": 0
            },
            "text/plain": [
              "Predicting: 52it [00:00, ?it/s]"
            ]
          },
          "metadata": {},
          "output_type": "display_data"
        },
        {
          "data": {
            "application/vnd.jupyter.widget-view+json": {
              "model_id": "92192b000e884a7ea89ffdd684393a0a",
              "version_major": 2,
              "version_minor": 0
            },
            "text/plain": [
              "Predicting: 52it [00:00, ?it/s]"
            ]
          },
          "metadata": {},
          "output_type": "display_data"
        },
        {
          "data": {
            "application/vnd.jupyter.widget-view+json": {
              "model_id": "608b4c569576408aa741afce2338bfb1",
              "version_major": 2,
              "version_minor": 0
            },
            "text/plain": [
              "Predicting: 52it [00:00, ?it/s]"
            ]
          },
          "metadata": {},
          "output_type": "display_data"
        },
        {
          "data": {
            "application/vnd.jupyter.widget-view+json": {
              "model_id": "07ac5bc670374a4aa1e30cd7c63cb74f",
              "version_major": 2,
              "version_minor": 0
            },
            "text/plain": [
              "Predicting: 52it [00:00, ?it/s]"
            ]
          },
          "metadata": {},
          "output_type": "display_data"
        },
        {
          "data": {
            "application/vnd.jupyter.widget-view+json": {
              "model_id": "7f1011e26daf47049823cf62a1f3fb30",
              "version_major": 2,
              "version_minor": 0
            },
            "text/plain": [
              "Predicting: 52it [00:00, ?it/s]"
            ]
          },
          "metadata": {},
          "output_type": "display_data"
        },
        {
          "data": {
            "application/vnd.jupyter.widget-view+json": {
              "model_id": "653ed304f7d743eda9c44ac47fc531b5",
              "version_major": 2,
              "version_minor": 0
            },
            "text/plain": [
              "Predicting: 52it [00:00, ?it/s]"
            ]
          },
          "metadata": {},
          "output_type": "display_data"
        },
        {
          "data": {
            "application/vnd.jupyter.widget-view+json": {
              "model_id": "bd3e053c08a64176a36f2e628d3e49e5",
              "version_major": 2,
              "version_minor": 0
            },
            "text/plain": [
              "Predicting: 52it [00:00, ?it/s]"
            ]
          },
          "metadata": {},
          "output_type": "display_data"
        }
      ],
      "source": [
        "\n",
        "preds = m.predict(future)"
      ]
    },
    {
      "cell_type": "raw",
      "id": "e88bb8bf-e9be-4673-8ff1-44d63ceda564",
      "metadata": {
        "id": "e88bb8bf-e9be-4673-8ff1-44d63ceda564"
      },
      "source": [
        "preds"
      ]
    },
    {
      "cell_type": "code",
      "execution_count": null,
      "id": "e1d7a934-8501-421c-a9ff-8d5995d76a82",
      "metadata": {
        "tags": [],
        "id": "e1d7a934-8501-421c-a9ff-8d5995d76a82",
        "outputId": "98cc8c6a-0959-4e00-d1c8-d9ba1222696b"
      },
      "outputs": [
        {
          "data": {
            "text/html": [
              "<div>\n",
              "<style scoped>\n",
              "    .dataframe tbody tr th:only-of-type {\n",
              "        vertical-align: middle;\n",
              "    }\n",
              "\n",
              "    .dataframe tbody tr th {\n",
              "        vertical-align: top;\n",
              "    }\n",
              "\n",
              "    .dataframe thead th {\n",
              "        text-align: right;\n",
              "    }\n",
              "</style>\n",
              "<table border=\"1\" class=\"dataframe\">\n",
              "  <thead>\n",
              "    <tr style=\"text-align: right;\">\n",
              "      <th></th>\n",
              "      <th>ds</th>\n",
              "      <th>y</th>\n",
              "      <th>ID</th>\n",
              "      <th>yhat1</th>\n",
              "      <th>trend</th>\n",
              "      <th>season_yearly</th>\n",
              "    </tr>\n",
              "  </thead>\n",
              "  <tbody>\n",
              "    <tr>\n",
              "      <th>530</th>\n",
              "      <td>2021-04-01</td>\n",
              "      <td>22275450.4</td>\n",
              "      <td>RU</td>\n",
              "      <td>20757818.0</td>\n",
              "      <td>21739624.0</td>\n",
              "      <td>-981806.125</td>\n",
              "    </tr>\n",
              "    <tr>\n",
              "      <th>531</th>\n",
              "      <td>2021-07-01</td>\n",
              "      <td>23913478.8</td>\n",
              "      <td>RU</td>\n",
              "      <td>23199576.0</td>\n",
              "      <td>21775150.0</td>\n",
              "      <td>1424426.000</td>\n",
              "    </tr>\n",
              "    <tr>\n",
              "      <th>532</th>\n",
              "      <td>2021-10-01</td>\n",
              "      <td>NaN</td>\n",
              "      <td>RU</td>\n",
              "      <td>25246560.0</td>\n",
              "      <td>21811064.0</td>\n",
              "      <td>3435496.000</td>\n",
              "    </tr>\n",
              "    <tr>\n",
              "      <th>533</th>\n",
              "      <td>2022-01-01</td>\n",
              "      <td>NaN</td>\n",
              "      <td>RU</td>\n",
              "      <td>20772266.0</td>\n",
              "      <td>21846980.0</td>\n",
              "      <td>-1074714.375</td>\n",
              "    </tr>\n",
              "    <tr>\n",
              "      <th>534</th>\n",
              "      <td>2022-04-01</td>\n",
              "      <td>NaN</td>\n",
              "      <td>RU</td>\n",
              "      <td>21328206.0</td>\n",
              "      <td>21882114.0</td>\n",
              "      <td>-553908.250</td>\n",
              "    </tr>\n",
              "  </tbody>\n",
              "</table>\n",
              "</div>"
            ],
            "text/plain": [
              "            ds           y  ID       yhat1       trend  season_yearly\n",
              "530 2021-04-01  22275450.4  RU  20757818.0  21739624.0    -981806.125\n",
              "531 2021-07-01  23913478.8  RU  23199576.0  21775150.0    1424426.000\n",
              "532 2021-10-01         NaN  RU  25246560.0  21811064.0    3435496.000\n",
              "533 2022-01-01         NaN  RU  20772266.0  21846980.0   -1074714.375\n",
              "534 2022-04-01         NaN  RU  21328206.0  21882114.0    -553908.250"
            ]
          },
          "execution_count": 67,
          "metadata": {},
          "output_type": "execute_result"
        }
      ],
      "source": [
        "preds.loc[preds['ID']=='RU']"
      ]
    },
    {
      "cell_type": "code",
      "execution_count": null,
      "id": "73717406-fcbf-40cb-b16e-c42bef31f243",
      "metadata": {
        "id": "73717406-fcbf-40cb-b16e-c42bef31f243"
      },
      "outputs": [],
      "source": [
        "#create test/train split\n",
        "test_size = 415 #best \n",
        "train_df = df_global[:-test_size].reset_index(drop=True)\n",
        "test_df = df_global[-test_size:].reset_index(drop=True)"
      ]
    },
    {
      "cell_type": "code",
      "execution_count": null,
      "id": "e1312244-51fa-491c-8f43-eac4a5139feb",
      "metadata": {
        "id": "e1312244-51fa-491c-8f43-eac4a5139feb"
      },
      "outputs": [],
      "source": [
        "future = m.make_future_dataframe(df_global, events_df=None, regressors_df=NOX_f, periods=3, n_historic_predictions=True)"
      ]
    }
  ],
  "metadata": {
    "kernelspec": {
      "display_name": "Python 3 (ipykernel)",
      "language": "python",
      "name": "python3"
    },
    "language_info": {
      "codemirror_mode": {
        "name": "ipython",
        "version": 3
      },
      "file_extension": ".py",
      "mimetype": "text/x-python",
      "name": "python",
      "nbconvert_exporter": "python",
      "pygments_lexer": "ipython3",
      "version": "3.10.10"
    },
    "colab": {
      "provenance": [],
      "include_colab_link": true
    }
  },
  "nbformat": 4,
  "nbformat_minor": 5
}